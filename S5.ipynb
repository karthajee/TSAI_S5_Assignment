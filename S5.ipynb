{
  "cells": [
    {
      "cell_type": "markdown",
      "metadata": {
        "id": "3ibB5DdCqaoe"
      },
      "source": [
        "# Building The First TSAI Neural Network\n",
        "\n",
        "- This notebook is a refactoring of the Session 4 Colab file\n",
        "    - Model-related code are present in `model.py`\n",
        "    - Utility stuff (plotting, dataloading etc) are present in `utils.py`"
      ]
    },
    {
      "cell_type": "code",
      "execution_count": 26,
      "metadata": {
        "id": "TCUFY6soqaof"
      },
      "outputs": [],
      "source": [
        "# Importing all relevant libraries and functions for execution\n",
        "# Note: This type of import is not always recommended because of \n",
        "# namespace collision, import size and confusion about which module contains\n",
        "# which function. Current task is not code-heavy so using it for convenience\n",
        "from model import *\n",
        "from utils import *\n",
        "import matplotlib.pyplot as plt"
      ]
    },
    {
      "cell_type": "code",
      "execution_count": 17,
      "metadata": {
        "id": "Ev83uJkwqaog"
      },
      "outputs": [],
      "source": [
        "# Defining global variables\n",
        "batch_size = 512\n",
        "num_epochs = 20\n",
        "\n",
        "# Defining a kwarg dict to store param values for train & test dataloader\n",
        "loader_kwargs = {'batch_size': batch_size, 'shuffle': True, 'num_workers': 2, 'pin_memory': True}"
      ]
    },
    {
      "cell_type": "code",
      "execution_count": 18,
      "metadata": {
        "id": "YeaO58sPqaog",
        "outputId": "8a51b04a-0b11-4721-d9bb-66f1f9881734",
        "colab": {
          "base_uri": "https://localhost:8080/"
        }
      },
      "outputs": [
        {
          "output_type": "stream",
          "name": "stdout",
          "text": [
            "CUDA Available? True\n"
          ]
        }
      ],
      "source": [
        "# Check whether CUDA is available or not\n",
        "cuda = torch.cuda.is_available()\n",
        "print(\"CUDA Available?\", cuda)\n",
        "\n",
        "# Set device to cuda if available or not\n",
        "device = 'cuda' if cuda else 'cpu'"
      ]
    },
    {
      "cell_type": "code",
      "execution_count": 19,
      "metadata": {
        "id": "CtOJtjidqaog"
      },
      "outputs": [],
      "source": [
        "# Create MNIST train & test datasets and convert them to dataloaders\n",
        "train_data, test_data = create_train_test_dataset()\n",
        "train_loader, test_loader = create_train_test_loader(train_data, test_data, **loader_kwargs)"
      ]
    },
    {
      "cell_type": "code",
      "execution_count": 20,
      "metadata": {
        "id": "vA9hPeODqaog",
        "outputId": "76e55d6e-0872-410e-8a69-f5b4514db04a",
        "colab": {
          "base_uri": "https://localhost:8080/",
          "height": 463
        }
      },
      "outputs": [
        {
          "output_type": "display_data",
          "data": {
            "text/plain": [
              "<Figure size 640x480 with 12 Axes>"
            ],
            "image/png": "[encoded data removed]"
          },
          "metadata": {}
        }
      ],
      "source": [
        "# Investigate a few elements of the train loader\n",
        "# Get the first set of data and label values\n",
        "batch_data, batch_label = next(iter(train_loader)) \n",
        "\n",
        "# Define a matplotlib figure\n",
        "fig = plt.figure()\n",
        "\n",
        "# Displaying the first 12 images of the batch\n",
        "for i in range(12):\n",
        "    plt.subplot(3, 4, i+1) # Defining a 2D grid \n",
        "    plt.tight_layout() # Reducing space between grid elements\n",
        "    plt.imshow(batch_data[i].squeeze(0), cmap='gray') # Display image (obtained from squeezing)\n",
        "    plt.title(batch_label[i].item()) # Display title\n",
        "    plt.xticks([]) # Remove x axis ticks\n",
        "    plt.yticks([]) # Remove y axis ticks"
      ]
    },
    {
      "cell_type": "code",
      "execution_count": 21,
      "metadata": {
        "id": "-qYCh8Yeqaoh",
        "outputId": "b9a7e3bc-697a-483c-f14b-000397f41e0c",
        "colab": {
          "base_uri": "https://localhost:8080/"
        }
      },
      "outputs": [
        {
          "output_type": "stream",
          "name": "stdout",
          "text": [
            "Looking in indexes: https://pypi.org/simple, https://us-python.pkg.dev/colab-wheels/public/simple/\n",
            "Requirement already satisfied: torchsummary in /usr/local/lib/python3.10/dist-packages (1.5.1)\n",
            "----------------------------------------------------------------\n",
            "        Layer (type)               Output Shape         Param #\n",
            "================================================================\n",
            "            Conv2d-1           [-1, 32, 26, 26]             320\n",
            "            Conv2d-2           [-1, 64, 24, 24]          18,496\n",
            "            Conv2d-3          [-1, 128, 10, 10]          73,856\n",
            "            Conv2d-4            [-1, 256, 8, 8]         295,168\n",
            "            Linear-5                   [-1, 50]         204,850\n",
            "            Linear-6                   [-1, 10]             510\n",
            "================================================================\n",
            "Total params: 593,200\n",
            "Trainable params: 593,200\n",
            "Non-trainable params: 0\n",
            "----------------------------------------------------------------\n",
            "Input size (MB): 0.00\n",
            "Forward/backward pass size (MB): 0.67\n",
            "Params size (MB): 2.26\n",
            "Estimated Total Size (MB): 2.94\n",
            "----------------------------------------------------------------\n"
          ]
        }
      ],
      "source": [
        "# Define our neural network model and display its structure\n",
        "model = Net().to(device)\n",
        "!pip install torchsummary\n",
        "from torchsummary import summary\n",
        "summary(model, input_size=(1, 28, 28))"
      ]
    },
    {
      "cell_type": "code",
      "execution_count": 22,
      "metadata": {
        "id": "0YkdvKxyqaoh"
      },
      "outputs": [],
      "source": [
        "# Initialize variables to store loss & accuracy values for both train and test\n",
        "train_losses = []\n",
        "test_losses = []\n",
        "train_acc = []\n",
        "test_acc = []\n",
        "\n",
        "test_incorrect_pred = {'images': [], 'ground_truths': [], 'predicted_vals': []}"
      ]
    },
    {
      "cell_type": "code",
      "execution_count": 23,
      "metadata": {
        "id": "MRYy0rayqaoh",
        "outputId": "b29b8326-5e8f-44a2-8f46-274533abb9e1",
        "colab": {
          "base_uri": "https://localhost:8080/"
        }
      },
      "outputs": [
        {
          "output_type": "stream",
          "name": "stdout",
          "text": [
            "Adjusting learning rate of group 0 to 1.0000e-02.\n",
            "Epoch 1\n"
          ]
        },
        {
          "output_type": "stream",
          "name": "stderr",
          "text": [
            "Train: Loss=1.8240 Batch_id=117 Accuracy=26.93: 100%|██████████| 118/118 [00:33<00:00,  3.56it/s]\n"
          ]
        },
        {
          "output_type": "stream",
          "name": "stdout",
          "text": [
            "Test set: Average loss: 1.5713, Accuracy: 4786/10000 (47.86%)\n",
            "\n",
            "Adjusting learning rate of group 0 to 1.0000e-02.\n",
            "Epoch 2\n"
          ]
        },
        {
          "output_type": "stream",
          "name": "stderr",
          "text": [
            "Train: Loss=0.1563 Batch_id=117 Accuracy=85.64: 100%|██████████| 118/118 [00:24<00:00,  4.76it/s]\n"
          ]
        },
        {
          "output_type": "stream",
          "name": "stdout",
          "text": [
            "Test set: Average loss: 0.1224, Accuracy: 9637/10000 (96.37%)\n",
            "\n",
            "Adjusting learning rate of group 0 to 1.0000e-02.\n",
            "Epoch 3\n"
          ]
        },
        {
          "output_type": "stream",
          "name": "stderr",
          "text": [
            "Train: Loss=0.0554 Batch_id=117 Accuracy=95.51: 100%|██████████| 118/118 [00:24<00:00,  4.75it/s]\n"
          ]
        },
        {
          "output_type": "stream",
          "name": "stdout",
          "text": [
            "Test set: Average loss: 0.0807, Accuracy: 9760/10000 (97.60%)\n",
            "\n",
            "Adjusting learning rate of group 0 to 1.0000e-02.\n",
            "Epoch 4\n"
          ]
        },
        {
          "output_type": "stream",
          "name": "stderr",
          "text": [
            "Train: Loss=0.1171 Batch_id=117 Accuracy=96.64: 100%|██████████| 118/118 [00:25<00:00,  4.56it/s]\n"
          ]
        },
        {
          "output_type": "stream",
          "name": "stdout",
          "text": [
            "Test set: Average loss: 0.0592, Accuracy: 9804/10000 (98.04%)\n",
            "\n",
            "Adjusting learning rate of group 0 to 1.0000e-02.\n",
            "Epoch 5\n"
          ]
        },
        {
          "output_type": "stream",
          "name": "stderr",
          "text": [
            "Train: Loss=0.0586 Batch_id=117 Accuracy=97.15: 100%|██████████| 118/118 [00:24<00:00,  4.86it/s]\n"
          ]
        },
        {
          "output_type": "stream",
          "name": "stdout",
          "text": [
            "Test set: Average loss: 0.0498, Accuracy: 9836/10000 (98.36%)\n",
            "\n",
            "Adjusting learning rate of group 0 to 1.0000e-02.\n",
            "Epoch 6\n"
          ]
        },
        {
          "output_type": "stream",
          "name": "stderr",
          "text": [
            "Train: Loss=0.0992 Batch_id=117 Accuracy=97.56: 100%|██████████| 118/118 [00:24<00:00,  4.76it/s]\n"
          ]
        },
        {
          "output_type": "stream",
          "name": "stdout",
          "text": [
            "Test set: Average loss: 0.0447, Accuracy: 9858/10000 (98.58%)\n",
            "\n",
            "Adjusting learning rate of group 0 to 1.0000e-02.\n",
            "Epoch 7\n"
          ]
        },
        {
          "output_type": "stream",
          "name": "stderr",
          "text": [
            "Train: Loss=0.0236 Batch_id=117 Accuracy=97.72: 100%|██████████| 118/118 [00:24<00:00,  4.80it/s]\n"
          ]
        },
        {
          "output_type": "stream",
          "name": "stdout",
          "text": [
            "Test set: Average loss: 0.0377, Accuracy: 9874/10000 (98.74%)\n",
            "\n",
            "Adjusting learning rate of group 0 to 1.0000e-02.\n",
            "Epoch 8\n"
          ]
        },
        {
          "output_type": "stream",
          "name": "stderr",
          "text": [
            "Train: Loss=0.0570 Batch_id=117 Accuracy=98.10: 100%|██████████| 118/118 [00:24<00:00,  4.73it/s]\n"
          ]
        },
        {
          "output_type": "stream",
          "name": "stdout",
          "text": [
            "Test set: Average loss: 0.0367, Accuracy: 9883/10000 (98.83%)\n",
            "\n",
            "Adjusting learning rate of group 0 to 1.0000e-02.\n",
            "Epoch 9\n"
          ]
        },
        {
          "output_type": "stream",
          "name": "stderr",
          "text": [
            "Train: Loss=0.0205 Batch_id=117 Accuracy=98.14: 100%|██████████| 118/118 [00:24<00:00,  4.77it/s]\n"
          ]
        },
        {
          "output_type": "stream",
          "name": "stdout",
          "text": [
            "Test set: Average loss: 0.0343, Accuracy: 9892/10000 (98.92%)\n",
            "\n",
            "Adjusting learning rate of group 0 to 1.0000e-02.\n",
            "Epoch 10\n"
          ]
        },
        {
          "output_type": "stream",
          "name": "stderr",
          "text": [
            "Train: Loss=0.0594 Batch_id=117 Accuracy=98.33: 100%|██████████| 118/118 [00:24<00:00,  4.79it/s]\n"
          ]
        },
        {
          "output_type": "stream",
          "name": "stdout",
          "text": [
            "Test set: Average loss: 0.0429, Accuracy: 9862/10000 (98.62%)\n",
            "\n",
            "Adjusting learning rate of group 0 to 1.0000e-02.\n",
            "Epoch 11\n"
          ]
        },
        {
          "output_type": "stream",
          "name": "stderr",
          "text": [
            "Train: Loss=0.0975 Batch_id=117 Accuracy=98.37: 100%|██████████| 118/118 [00:25<00:00,  4.72it/s]\n"
          ]
        },
        {
          "output_type": "stream",
          "name": "stdout",
          "text": [
            "Test set: Average loss: 0.0305, Accuracy: 9900/10000 (99.00%)\n",
            "\n",
            "Adjusting learning rate of group 0 to 1.0000e-02.\n",
            "Epoch 12\n"
          ]
        },
        {
          "output_type": "stream",
          "name": "stderr",
          "text": [
            "Train: Loss=0.0129 Batch_id=117 Accuracy=98.54: 100%|██████████| 118/118 [00:24<00:00,  4.74it/s]\n"
          ]
        },
        {
          "output_type": "stream",
          "name": "stdout",
          "text": [
            "Test set: Average loss: 0.0319, Accuracy: 9898/10000 (98.98%)\n",
            "\n",
            "Adjusting learning rate of group 0 to 1.0000e-02.\n",
            "Epoch 13\n"
          ]
        },
        {
          "output_type": "stream",
          "name": "stderr",
          "text": [
            "Train: Loss=0.0058 Batch_id=117 Accuracy=98.62: 100%|██████████| 118/118 [00:23<00:00,  4.94it/s]\n"
          ]
        },
        {
          "output_type": "stream",
          "name": "stdout",
          "text": [
            "Test set: Average loss: 0.0341, Accuracy: 9901/10000 (99.01%)\n",
            "\n",
            "Adjusting learning rate of group 0 to 1.0000e-02.\n",
            "Epoch 14\n"
          ]
        },
        {
          "output_type": "stream",
          "name": "stderr",
          "text": [
            "Train: Loss=0.0682 Batch_id=117 Accuracy=98.64: 100%|██████████| 118/118 [00:24<00:00,  4.84it/s]\n"
          ]
        },
        {
          "output_type": "stream",
          "name": "stdout",
          "text": [
            "Test set: Average loss: 0.0311, Accuracy: 9899/10000 (98.99%)\n",
            "\n",
            "Adjusting learning rate of group 0 to 1.0000e-02.\n",
            "Epoch 15\n"
          ]
        },
        {
          "output_type": "stream",
          "name": "stderr",
          "text": [
            "Train: Loss=0.0351 Batch_id=117 Accuracy=98.71: 100%|██████████| 118/118 [00:24<00:00,  4.74it/s]\n"
          ]
        },
        {
          "output_type": "stream",
          "name": "stdout",
          "text": [
            "Test set: Average loss: 0.0266, Accuracy: 9917/10000 (99.17%)\n",
            "\n",
            "Adjusting learning rate of group 0 to 1.0000e-03.\n",
            "Epoch 16\n"
          ]
        },
        {
          "output_type": "stream",
          "name": "stderr",
          "text": [
            "Train: Loss=0.0370 Batch_id=117 Accuracy=99.03: 100%|██████████| 118/118 [00:24<00:00,  4.75it/s]\n"
          ]
        },
        {
          "output_type": "stream",
          "name": "stdout",
          "text": [
            "Test set: Average loss: 0.0240, Accuracy: 9920/10000 (99.20%)\n",
            "\n",
            "Adjusting learning rate of group 0 to 1.0000e-03.\n",
            "Epoch 17\n"
          ]
        },
        {
          "output_type": "stream",
          "name": "stderr",
          "text": [
            "Train: Loss=0.0312 Batch_id=117 Accuracy=99.08: 100%|██████████| 118/118 [00:24<00:00,  4.77it/s]\n"
          ]
        },
        {
          "output_type": "stream",
          "name": "stdout",
          "text": [
            "Test set: Average loss: 0.0233, Accuracy: 9924/10000 (99.24%)\n",
            "\n",
            "Adjusting learning rate of group 0 to 1.0000e-03.\n",
            "Epoch 18\n"
          ]
        },
        {
          "output_type": "stream",
          "name": "stderr",
          "text": [
            "Train: Loss=0.0111 Batch_id=117 Accuracy=99.06: 100%|██████████| 118/118 [00:24<00:00,  4.76it/s]\n"
          ]
        },
        {
          "output_type": "stream",
          "name": "stdout",
          "text": [
            "Test set: Average loss: 0.0230, Accuracy: 9926/10000 (99.26%)\n",
            "\n",
            "Adjusting learning rate of group 0 to 1.0000e-03.\n",
            "Epoch 19\n"
          ]
        },
        {
          "output_type": "stream",
          "name": "stderr",
          "text": [
            "Train: Loss=0.0238 Batch_id=117 Accuracy=99.12: 100%|██████████| 118/118 [00:24<00:00,  4.75it/s]\n"
          ]
        },
        {
          "output_type": "stream",
          "name": "stdout",
          "text": [
            "Test set: Average loss: 0.0223, Accuracy: 9926/10000 (99.26%)\n",
            "\n",
            "Adjusting learning rate of group 0 to 1.0000e-03.\n",
            "Epoch 20\n"
          ]
        },
        {
          "output_type": "stream",
          "name": "stderr",
          "text": [
            "Train: Loss=0.0709 Batch_id=117 Accuracy=99.11: 100%|██████████| 118/118 [00:24<00:00,  4.77it/s]\n"
          ]
        },
        {
          "output_type": "stream",
          "name": "stdout",
          "text": [
            "Test set: Average loss: 0.0227, Accuracy: 9930/10000 (99.30%)\n",
            "\n",
            "Adjusting learning rate of group 0 to 1.0000e-03.\n"
          ]
        }
      ],
      "source": [
        "# Train the model and assess metrics on test set for num_epochs\n",
        "train_test_run(model, device, train_loader, test_loader, num_epochs, \n",
        "               train_acc, train_losses, test_acc, test_losses)"
      ]
    },
    {
      "cell_type": "code",
      "source": [
        "# Plot performance metrics on train & test\n",
        "plot_loss_acc(train_losses, train_acc, test_losses, test_acc)"
      ],
      "metadata": {
        "id": "0U3z5MC5x6fy",
        "outputId": "cb466be2-a434-4add-bd36-7b8176b5f22a",
        "colab": {
          "base_uri": "https://localhost:8080/",
          "height": 733
        }
      },
      "execution_count": 29,
      "outputs": [
        {
          "output_type": "execute_result",
          "data": {
            "text/plain": [
              "Text(0.5, 1.0, 'Test Accuracy')"
            ]
          },
          "metadata": {},
          "execution_count": 29
        },
        {
          "output_type": "display_data",
          "data": {
            "text/plain": [
              "<Figure size 1500x1000 with 4 Axes>"
            ],
            "image/png": "[encoded data removed]"
          },
          "metadata": {}
        }
      ]
    }
  ],
  "metadata": {
    "language_info": {
      "name": "python"
    },
    "orig_nbformat": 4,
    "colab": {
      "provenance": [],
      "gpuType": "T4"
    },
    "kernelspec": {
      "name": "python3",
      "display_name": "Python 3"
    },
    "accelerator": "GPU"
  },
  "nbformat": 4,
  "nbformat_minor": 0
}