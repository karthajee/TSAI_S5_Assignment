{
 "cells": [
  {
   "attachments": {},
   "cell_type": "markdown",
   "metadata": {},
   "source": [
    "# Building The First TSAI Neural Network\n",
    "\n",
    "- This notebook is a refactoring of the Session 4 Colab file\n",
    "    - Model-related code are present in `model.py`\n",
    "    - Utility stuff (plotting, dataloading etc) are present in `utils.py`"
   ]
  },
  {
   "cell_type": "code",
   "execution_count": null,
   "metadata": {},
   "outputs": [],
   "source": [
    "# Importing all relevant libraries and functions for execution\n",
    "# Note: This type of import is not always recommended because of \n",
    "# namespace collision, import size and confusion about which module contains\n",
    "# which function. Current task is not code-heavy so using it for convenience\n",
    "from model import *\n",
    "from utils import *\n",
    "import matplotlib.pyplot as plt"
   ]
  },
  {
   "cell_type": "code",
   "execution_count": null,
   "metadata": {},
   "outputs": [],
   "source": [
    "# Defining global variables\n",
    "batch_size = 512\n",
    "num_epochs = 20\n",
    "\n",
    "# Defining a kwarg dict to store param values for train & test dataloader\n",
    "loader_kwargs = {'batch_size': batch_size, 'shuffle': True, 'num_workers': 2, 'pin_memory': True}"
   ]
  },
  {
   "cell_type": "code",
   "execution_count": null,
   "metadata": {},
   "outputs": [],
   "source": [
    "# Check whether CUDA is available or not\n",
    "cuda = torch.cuda.is_available()\n",
    "print(\"CUDA Available?\", cuda)\n",
    "\n",
    "# Set device to cuda if available or not\n",
    "device = 'cuda' if cuda else 'cpu'"
   ]
  },
  {
   "cell_type": "code",
   "execution_count": null,
   "metadata": {},
   "outputs": [],
   "source": [
    "# Create MNIST train & test datasets and convert them to dataloaders\n",
    "train_data, test_data = create_train_test_dataset()\n",
    "train_loader, test_loader = create_train_test_loader(train_data, test_data)"
   ]
  },
  {
   "cell_type": "code",
   "execution_count": null,
   "metadata": {},
   "outputs": [],
   "source": [
    "# Investigate a few elements of the train loader\n",
    "# Get the first set of data and label values\n",
    "batch_data, batch_label = next(iter(train_loader)) \n",
    "\n",
    "# Define a matplotlib figure\n",
    "fig = plt.figure()\n",
    "\n",
    "# Displaying the first 12 images of the batch\n",
    "for i in range(12):\n",
    "    plt.subplot(3, 4, i+1) # Defining a 2D grid \n",
    "    plt.tight_layout() # Reducing space between grid elements\n",
    "    plt.imshow(batch_data[i].squeeze(0), cmap='gray') # Display image (obtained from squeezing)\n",
    "    plt.title(batch_label[i].item()) # Display title\n",
    "    plt.xticks([]) # Remove x axis ticks\n",
    "    plt.yticks([]) # Remove y axis ticks"
   ]
  },
  {
   "cell_type": "code",
   "execution_count": null,
   "metadata": {},
   "outputs": [],
   "source": [
    "# Define our neural network model and display its structure\n",
    "model = Net().to(device)\n",
    "!pip install torchsummary\n",
    "from torchsummary import summary\n",
    "summary(model, input_size=(1, 28, 28))"
   ]
  },
  {
   "cell_type": "code",
   "execution_count": null,
   "metadata": {},
   "outputs": [],
   "source": [
    "# Initialize variables to store loss & accuracy values for both train and test\n",
    "train_losses = []\n",
    "test_losses = []\n",
    "train_acc = []\n",
    "test_acc = []\n",
    "\n",
    "test_incorrect_pred = {'images': [], 'ground_truths': [], 'predicted_vals': []}"
   ]
  },
  {
   "cell_type": "code",
   "execution_count": null,
   "metadata": {},
   "outputs": [],
   "source": [
    "# Train the model and assess metrics on test set for num_epochs\n",
    "train_test_run(model, device, train_loader, test_loader, num_epochs, \n",
    "               train_acc, train_losses, test_acc, test_losses)"
   ]
  },
  {
   "cell_type": "code",
   "execution_count": null,
   "metadata": {},
   "outputs": [],
   "source": [
    "# Plot performance metrics on train & test\n",
    "plot_loss_acc(train_losses, train_acc, test_losses, test_acc)"
   ]
  }
 ],
 "metadata": {
  "language_info": {
   "name": "python"
  },
  "orig_nbformat": 4
 },
 "nbformat": 4,
 "nbformat_minor": 2
}
